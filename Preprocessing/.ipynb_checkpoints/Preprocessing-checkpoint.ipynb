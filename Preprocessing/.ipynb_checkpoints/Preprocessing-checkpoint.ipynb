{
 "cells": [
  {
   "cell_type": "markdown",
   "metadata": {},
   "source": [
    "# Preprocessing of parsed data"
   ]
  },
  {
   "cell_type": "markdown",
   "metadata": {},
   "source": [
    "# Part 1. Air traffic and airports data"
   ]
  },
  {
   "cell_type": "code",
   "execution_count": 27,
   "metadata": {},
   "outputs": [],
   "source": [
    "import pandas as pd\n",
    "import numpy as np\n",
    "import matplotlib.pyplot as plt\n",
    "import seaborn as sns\n",
    "\n",
    "from tqdm import tqdm_notebook\n",
    "\n",
    "import warnings\n",
    "warnings.filterwarnings(\"ignore\")"
   ]
  },
  {
   "cell_type": "code",
   "execution_count": 3,
   "metadata": {},
   "outputs": [
    {
     "data": {
      "text/html": [
       "<div>\n",
       "<style scoped>\n",
       "    .dataframe tbody tr th:only-of-type {\n",
       "        vertical-align: middle;\n",
       "    }\n",
       "\n",
       "    .dataframe tbody tr th {\n",
       "        vertical-align: top;\n",
       "    }\n",
       "\n",
       "    .dataframe thead th {\n",
       "        text-align: right;\n",
       "    }\n",
       "</style>\n",
       "<table border=\"1\" class=\"dataframe\">\n",
       "  <thead>\n",
       "    <tr style=\"text-align: right;\">\n",
       "      <th></th>\n",
       "      <th>Name</th>\n",
       "      <th>City</th>\n",
       "      <th>Country</th>\n",
       "      <th>IATA</th>\n",
       "      <th>ICAO</th>\n",
       "      <th>Lat</th>\n",
       "      <th>Long</th>\n",
       "      <th>Alt</th>\n",
       "      <th>Timezone</th>\n",
       "      <th>DST</th>\n",
       "      <th>Tz database time zone</th>\n",
       "      <th>type</th>\n",
       "      <th>source</th>\n",
       "    </tr>\n",
       "    <tr>\n",
       "      <th>ID</th>\n",
       "      <th></th>\n",
       "      <th></th>\n",
       "      <th></th>\n",
       "      <th></th>\n",
       "      <th></th>\n",
       "      <th></th>\n",
       "      <th></th>\n",
       "      <th></th>\n",
       "      <th></th>\n",
       "      <th></th>\n",
       "      <th></th>\n",
       "      <th></th>\n",
       "      <th></th>\n",
       "    </tr>\n",
       "  </thead>\n",
       "  <tbody>\n",
       "    <tr>\n",
       "      <th>1</th>\n",
       "      <td>Goroka Airport</td>\n",
       "      <td>Goroka</td>\n",
       "      <td>Papua New Guinea</td>\n",
       "      <td>GKA</td>\n",
       "      <td>AYGA</td>\n",
       "      <td>-6.081690</td>\n",
       "      <td>145.391998</td>\n",
       "      <td>5282</td>\n",
       "      <td>10</td>\n",
       "      <td>U</td>\n",
       "      <td>Pacific/Port_Moresby</td>\n",
       "      <td>airport</td>\n",
       "      <td>OurAirports</td>\n",
       "    </tr>\n",
       "    <tr>\n",
       "      <th>2</th>\n",
       "      <td>Madang Airport</td>\n",
       "      <td>Madang</td>\n",
       "      <td>Papua New Guinea</td>\n",
       "      <td>MAG</td>\n",
       "      <td>AYMD</td>\n",
       "      <td>-5.207080</td>\n",
       "      <td>145.789001</td>\n",
       "      <td>20</td>\n",
       "      <td>10</td>\n",
       "      <td>U</td>\n",
       "      <td>Pacific/Port_Moresby</td>\n",
       "      <td>airport</td>\n",
       "      <td>OurAirports</td>\n",
       "    </tr>\n",
       "    <tr>\n",
       "      <th>3</th>\n",
       "      <td>Mount Hagen Kagamuga Airport</td>\n",
       "      <td>Mount Hagen</td>\n",
       "      <td>Papua New Guinea</td>\n",
       "      <td>HGU</td>\n",
       "      <td>AYMH</td>\n",
       "      <td>-5.826790</td>\n",
       "      <td>144.296005</td>\n",
       "      <td>5388</td>\n",
       "      <td>10</td>\n",
       "      <td>U</td>\n",
       "      <td>Pacific/Port_Moresby</td>\n",
       "      <td>airport</td>\n",
       "      <td>OurAirports</td>\n",
       "    </tr>\n",
       "    <tr>\n",
       "      <th>4</th>\n",
       "      <td>Nadzab Airport</td>\n",
       "      <td>Nadzab</td>\n",
       "      <td>Papua New Guinea</td>\n",
       "      <td>LAE</td>\n",
       "      <td>AYNZ</td>\n",
       "      <td>-6.569803</td>\n",
       "      <td>146.725977</td>\n",
       "      <td>239</td>\n",
       "      <td>10</td>\n",
       "      <td>U</td>\n",
       "      <td>Pacific/Port_Moresby</td>\n",
       "      <td>airport</td>\n",
       "      <td>OurAirports</td>\n",
       "    </tr>\n",
       "    <tr>\n",
       "      <th>5</th>\n",
       "      <td>Port Moresby Jacksons International Airport</td>\n",
       "      <td>Port Moresby</td>\n",
       "      <td>Papua New Guinea</td>\n",
       "      <td>POM</td>\n",
       "      <td>AYPY</td>\n",
       "      <td>-9.443380</td>\n",
       "      <td>147.220001</td>\n",
       "      <td>146</td>\n",
       "      <td>10</td>\n",
       "      <td>U</td>\n",
       "      <td>Pacific/Port_Moresby</td>\n",
       "      <td>airport</td>\n",
       "      <td>OurAirports</td>\n",
       "    </tr>\n",
       "  </tbody>\n",
       "</table>\n",
       "</div>"
      ],
      "text/plain": [
       "                                           Name          City  \\\n",
       "ID                                                              \n",
       "1                                Goroka Airport        Goroka   \n",
       "2                                Madang Airport        Madang   \n",
       "3                  Mount Hagen Kagamuga Airport   Mount Hagen   \n",
       "4                                Nadzab Airport        Nadzab   \n",
       "5   Port Moresby Jacksons International Airport  Port Moresby   \n",
       "\n",
       "             Country IATA  ICAO       Lat        Long   Alt Timezone DST  \\\n",
       "ID                                                                         \n",
       "1   Papua New Guinea  GKA  AYGA -6.081690  145.391998  5282       10   U   \n",
       "2   Papua New Guinea  MAG  AYMD -5.207080  145.789001    20       10   U   \n",
       "3   Papua New Guinea  HGU  AYMH -5.826790  144.296005  5388       10   U   \n",
       "4   Papua New Guinea  LAE  AYNZ -6.569803  146.725977   239       10   U   \n",
       "5   Papua New Guinea  POM  AYPY -9.443380  147.220001   146       10   U   \n",
       "\n",
       "   Tz database time zone     type       source  \n",
       "ID                                              \n",
       "1   Pacific/Port_Moresby  airport  OurAirports  \n",
       "2   Pacific/Port_Moresby  airport  OurAirports  \n",
       "3   Pacific/Port_Moresby  airport  OurAirports  \n",
       "4   Pacific/Port_Moresby  airport  OurAirports  \n",
       "5   Pacific/Port_Moresby  airport  OurAirports  "
      ]
     },
     "execution_count": 3,
     "metadata": {},
     "output_type": "execute_result"
    }
   ],
   "source": [
    "airport_df = pd.read_csv(\"airport_df.csv\", index_col=0)\n",
    "airport_df.head()"
   ]
  },
  {
   "cell_type": "code",
   "execution_count": 4,
   "metadata": {},
   "outputs": [
    {
     "data": {
      "text/plain": [
       "(6072, 6)"
      ]
     },
     "execution_count": 4,
     "metadata": {},
     "output_type": "execute_result"
    }
   ],
   "source": [
    "airport_df.drop(\n",
    "    ['ICAO', 'Alt', 'Timezone', 'DST', 'Tz database time zone', 'type', 'source'],\n",
    "    axis=1, \n",
    "    inplace=True\n",
    ")\n",
    "airport_df = airport_df[~airport_df.IATA.isin([r\"\\N\"])]\n",
    "airport_df.shape"
   ]
  },
  {
   "cell_type": "code",
   "execution_count": 7,
   "metadata": {},
   "outputs": [
    {
     "name": "stdout",
     "output_type": "stream",
     "text": [
      "(67663, 9)\n"
     ]
    },
    {
     "data": {
      "text/html": [
       "<div>\n",
       "<style scoped>\n",
       "    .dataframe tbody tr th:only-of-type {\n",
       "        vertical-align: middle;\n",
       "    }\n",
       "\n",
       "    .dataframe tbody tr th {\n",
       "        vertical-align: top;\n",
       "    }\n",
       "\n",
       "    .dataframe thead th {\n",
       "        text-align: right;\n",
       "    }\n",
       "</style>\n",
       "<table border=\"1\" class=\"dataframe\">\n",
       "  <thead>\n",
       "    <tr style=\"text-align: right;\">\n",
       "      <th></th>\n",
       "      <th>Airline</th>\n",
       "      <th>Airline ID</th>\n",
       "      <th>Source Airport</th>\n",
       "      <th>Source Airport ID</th>\n",
       "      <th>Dest Airport</th>\n",
       "      <th>Dest Airport ID</th>\n",
       "      <th>Codeshare</th>\n",
       "      <th>Stops</th>\n",
       "      <th>equipment</th>\n",
       "    </tr>\n",
       "  </thead>\n",
       "  <tbody>\n",
       "    <tr>\n",
       "      <th>0</th>\n",
       "      <td>2B</td>\n",
       "      <td>410</td>\n",
       "      <td>AER</td>\n",
       "      <td>2965</td>\n",
       "      <td>KZN</td>\n",
       "      <td>2990</td>\n",
       "      <td>NaN</td>\n",
       "      <td>0</td>\n",
       "      <td>CR2</td>\n",
       "    </tr>\n",
       "    <tr>\n",
       "      <th>1</th>\n",
       "      <td>2B</td>\n",
       "      <td>410</td>\n",
       "      <td>ASF</td>\n",
       "      <td>2966</td>\n",
       "      <td>KZN</td>\n",
       "      <td>2990</td>\n",
       "      <td>NaN</td>\n",
       "      <td>0</td>\n",
       "      <td>CR2</td>\n",
       "    </tr>\n",
       "    <tr>\n",
       "      <th>2</th>\n",
       "      <td>2B</td>\n",
       "      <td>410</td>\n",
       "      <td>ASF</td>\n",
       "      <td>2966</td>\n",
       "      <td>MRV</td>\n",
       "      <td>2962</td>\n",
       "      <td>NaN</td>\n",
       "      <td>0</td>\n",
       "      <td>CR2</td>\n",
       "    </tr>\n",
       "    <tr>\n",
       "      <th>3</th>\n",
       "      <td>2B</td>\n",
       "      <td>410</td>\n",
       "      <td>CEK</td>\n",
       "      <td>2968</td>\n",
       "      <td>KZN</td>\n",
       "      <td>2990</td>\n",
       "      <td>NaN</td>\n",
       "      <td>0</td>\n",
       "      <td>CR2</td>\n",
       "    </tr>\n",
       "    <tr>\n",
       "      <th>4</th>\n",
       "      <td>2B</td>\n",
       "      <td>410</td>\n",
       "      <td>CEK</td>\n",
       "      <td>2968</td>\n",
       "      <td>OVB</td>\n",
       "      <td>4078</td>\n",
       "      <td>NaN</td>\n",
       "      <td>0</td>\n",
       "      <td>CR2</td>\n",
       "    </tr>\n",
       "  </tbody>\n",
       "</table>\n",
       "</div>"
      ],
      "text/plain": [
       "  Airline Airline ID Source Airport Source Airport ID Dest Airport  \\\n",
       "0      2B        410            AER              2965          KZN   \n",
       "1      2B        410            ASF              2966          KZN   \n",
       "2      2B        410            ASF              2966          MRV   \n",
       "3      2B        410            CEK              2968          KZN   \n",
       "4      2B        410            CEK              2968          OVB   \n",
       "\n",
       "  Dest Airport ID Codeshare  Stops equipment  \n",
       "0            2990       NaN      0       CR2  \n",
       "1            2990       NaN      0       CR2  \n",
       "2            2962       NaN      0       CR2  \n",
       "3            2990       NaN      0       CR2  \n",
       "4            4078       NaN      0       CR2  "
      ]
     },
     "execution_count": 7,
     "metadata": {},
     "output_type": "execute_result"
    }
   ],
   "source": [
    "connections_df = pd.read_csv(\"connections_df.csv\", index_col=0)\n",
    "print(connections_df.shape)\n",
    "connections_df.head()"
   ]
  },
  {
   "cell_type": "code",
   "execution_count": 8,
   "metadata": {},
   "outputs": [
    {
     "name": "stdout",
     "output_type": "stream",
     "text": [
      "(28330, 3)\n"
     ]
    },
    {
     "data": {
      "text/html": [
       "<div>\n",
       "<style scoped>\n",
       "    .dataframe tbody tr th:only-of-type {\n",
       "        vertical-align: middle;\n",
       "    }\n",
       "\n",
       "    .dataframe tbody tr th {\n",
       "        vertical-align: top;\n",
       "    }\n",
       "\n",
       "    .dataframe thead th {\n",
       "        text-align: right;\n",
       "    }\n",
       "</style>\n",
       "<table border=\"1\" class=\"dataframe\">\n",
       "  <thead>\n",
       "    <tr style=\"text-align: right;\">\n",
       "      <th></th>\n",
       "      <th>course_code</th>\n",
       "      <th>destination_code</th>\n",
       "      <th>destination_flights</th>\n",
       "    </tr>\n",
       "  </thead>\n",
       "  <tbody>\n",
       "    <tr>\n",
       "      <th>0</th>\n",
       "      <td>AAA</td>\n",
       "      <td>PPT</td>\n",
       "      <td>6</td>\n",
       "    </tr>\n",
       "    <tr>\n",
       "      <th>1</th>\n",
       "      <td>AAA</td>\n",
       "      <td>MKP</td>\n",
       "      <td>0</td>\n",
       "    </tr>\n",
       "    <tr>\n",
       "      <th>2</th>\n",
       "      <td>AAA</td>\n",
       "      <td>RRR</td>\n",
       "      <td>0</td>\n",
       "    </tr>\n",
       "    <tr>\n",
       "      <th>3</th>\n",
       "      <td>AAA</td>\n",
       "      <td>FAC</td>\n",
       "      <td>0</td>\n",
       "    </tr>\n",
       "    <tr>\n",
       "      <th>4</th>\n",
       "      <td>AAK</td>\n",
       "      <td>TRW</td>\n",
       "      <td>12</td>\n",
       "    </tr>\n",
       "  </tbody>\n",
       "</table>\n",
       "</div>"
      ],
      "text/plain": [
       "  course_code destination_code  destination_flights\n",
       "0         AAA              PPT                    6\n",
       "1         AAA              MKP                    0\n",
       "2         AAA              RRR                    0\n",
       "3         AAA              FAC                    0\n",
       "4         AAK              TRW                   12"
      ]
     },
     "execution_count": 8,
     "metadata": {},
     "output_type": "execute_result"
    }
   ],
   "source": [
    "routes = pd.read_csv(\"routes.csv\", index_col=0)\n",
    "print(routes.shape)\n",
    "routes.head()"
   ]
  },
  {
   "cell_type": "code",
   "execution_count": 18,
   "metadata": {},
   "outputs": [
    {
     "data": {
      "image/png": "[encoded data removed]",
      "text/plain": [
       "<Figure size 1224x576 with 1 Axes>"
      ]
     },
     "metadata": {
      "needs_background": "light"
     },
     "output_type": "display_data"
    }
   ],
   "source": [
    "plt.figure(figsize=(17, 8))\n",
    "plt.title(\"World airports\")\n",
    "plt.scatter(airport_df.Long, airport_df.Lat, s=0.5, c='darkblue')\n",
    "plt.ylabel(\"Latitude\")\n",
    "plt.xlabel(\"Longitude\")\n",
    "sns.despine()\n",
    "plt.show()"
   ]
  },
  {
   "cell_type": "markdown",
   "metadata": {},
   "source": [
    "## Merging the dataframes"
   ]
  },
  {
   "cell_type": "code",
   "execution_count": 19,
   "metadata": {},
   "outputs": [
    {
     "data": {
      "text/html": [
       "<div>\n",
       "<style scoped>\n",
       "    .dataframe tbody tr th:only-of-type {\n",
       "        vertical-align: middle;\n",
       "    }\n",
       "\n",
       "    .dataframe tbody tr th {\n",
       "        vertical-align: top;\n",
       "    }\n",
       "\n",
       "    .dataframe thead th {\n",
       "        text-align: right;\n",
       "    }\n",
       "</style>\n",
       "<table border=\"1\" class=\"dataframe\">\n",
       "  <thead>\n",
       "    <tr style=\"text-align: right;\">\n",
       "      <th></th>\n",
       "      <th>airline</th>\n",
       "      <th>airline_id</th>\n",
       "      <th>source_airport</th>\n",
       "      <th>source_airport_id</th>\n",
       "      <th>dest_airport</th>\n",
       "      <th>dest_airport_id</th>\n",
       "      <th>destination_flights</th>\n",
       "    </tr>\n",
       "  </thead>\n",
       "  <tbody>\n",
       "    <tr>\n",
       "      <th>0</th>\n",
       "      <td>2B</td>\n",
       "      <td>410</td>\n",
       "      <td>AER</td>\n",
       "      <td>2965</td>\n",
       "      <td>KZN</td>\n",
       "      <td>2990</td>\n",
       "      <td>16.0</td>\n",
       "    </tr>\n",
       "    <tr>\n",
       "      <th>1</th>\n",
       "      <td>2B</td>\n",
       "      <td>410</td>\n",
       "      <td>ASF</td>\n",
       "      <td>2966</td>\n",
       "      <td>KZN</td>\n",
       "      <td>2990</td>\n",
       "      <td>12.0</td>\n",
       "    </tr>\n",
       "    <tr>\n",
       "      <th>2</th>\n",
       "      <td>2B</td>\n",
       "      <td>410</td>\n",
       "      <td>ASF</td>\n",
       "      <td>2966</td>\n",
       "      <td>MRV</td>\n",
       "      <td>2962</td>\n",
       "      <td>8.0</td>\n",
       "    </tr>\n",
       "    <tr>\n",
       "      <th>3</th>\n",
       "      <td>2B</td>\n",
       "      <td>410</td>\n",
       "      <td>CEK</td>\n",
       "      <td>2968</td>\n",
       "      <td>KZN</td>\n",
       "      <td>2990</td>\n",
       "      <td>NaN</td>\n",
       "    </tr>\n",
       "    <tr>\n",
       "      <th>4</th>\n",
       "      <td>2B</td>\n",
       "      <td>410</td>\n",
       "      <td>CEK</td>\n",
       "      <td>2968</td>\n",
       "      <td>OVB</td>\n",
       "      <td>4078</td>\n",
       "      <td>30.0</td>\n",
       "    </tr>\n",
       "  </tbody>\n",
       "</table>\n",
       "</div>"
      ],
      "text/plain": [
       "  airline airline_id source_airport source_airport_id dest_airport  \\\n",
       "0      2B        410            AER              2965          KZN   \n",
       "1      2B        410            ASF              2966          KZN   \n",
       "2      2B        410            ASF              2966          MRV   \n",
       "3      2B        410            CEK              2968          KZN   \n",
       "4      2B        410            CEK              2968          OVB   \n",
       "\n",
       "  dest_airport_id  destination_flights  \n",
       "0            2990                 16.0  \n",
       "1            2990                 12.0  \n",
       "2            2962                  8.0  \n",
       "3            2990                  NaN  \n",
       "4            4078                 30.0  "
      ]
     },
     "execution_count": 19,
     "metadata": {},
     "output_type": "execute_result"
    }
   ],
   "source": [
    "connections = pd.merge(\n",
    "    connections_df, \n",
    "    routes, \n",
    "    how='left', \n",
    "    left_on=['Source Airport', 'Dest Airport'], \n",
    "    right_on=['course_code', 'destination_code']\n",
    ")\n",
    "\n",
    "connections.drop(\n",
    "    ['course_code', 'destination_code', 'Codeshare', 'Stops', 'equipment'],\n",
    "    axis=1, inplace=True\n",
    ")\n",
    "\n",
    "connections.columns = connections.columns.str.lower().str.split().str.join(\"_\")\n",
    "connections.head()"
   ]
  },
  {
   "cell_type": "markdown",
   "metadata": {},
   "source": [
    "## Problem - half of connections don't have the estimated number of flights"
   ]
  },
  {
   "cell_type": "code",
   "execution_count": 22,
   "metadata": {},
   "outputs": [
    {
     "data": {
      "text/plain": [
       "airline                0.000000\n",
       "airline_id             0.000000\n",
       "source_airport         0.000000\n",
       "source_airport_id      0.000000\n",
       "dest_airport           0.000000\n",
       "dest_airport_id        0.000000\n",
       "destination_flights    0.506909\n",
       "dtype: float64"
      ]
     },
     "execution_count": 22,
     "metadata": {},
     "output_type": "execute_result"
    }
   ],
   "source": [
    "connections.isnull().sum()/connections.shape[0]"
   ]
  },
  {
   "cell_type": "markdown",
   "metadata": {},
   "source": [
    "## Idea - fill missing number of flights with minimal number of flights from that source"
   ]
  },
  {
   "cell_type": "code",
   "execution_count": 23,
   "metadata": {},
   "outputs": [],
   "source": [
    "MINIMAL_FLIGHTS_ESTIMATE = 0.1\n",
    "\n",
    "minimal_flights = connections[\n",
    "    (connections.destination_flights!=0)&(~connections.destination_flights.isnull())\n",
    "].groupby(['source_airport']).destination_flights.min()\n",
    "\n",
    "minimal_flights = np.ceil(minimal_flights*MINIMAL_FLIGHTS_ESTIMATE)"
   ]
  },
  {
   "cell_type": "code",
   "execution_count": 31,
   "metadata": {},
   "outputs": [
    {
     "data": {
      "image/png": "[encoded data removed]",
      "text/plain": [
       "<Figure size 432x288 with 1 Axes>"
      ]
     },
     "metadata": {
      "needs_background": "light"
     },
     "output_type": "display_data"
    }
   ],
   "source": [
    "minimal_flights.apply(np.log).hist(bins=30)\n",
    "sns.despine()\n",
    "plt.title(\"Distribution of the estimated number of flights\")\n",
    "plt.show()"
   ]
  },
  {
   "cell_type": "code",
   "execution_count": 28,
   "metadata": {},
   "outputs": [],
   "source": [
    "# filling the missing values with the estimates\n",
    "connections.destination_flights[\n",
    "    (connections.destination_flights.isnull())|(connections.destination_flights==0)\n",
    "] = connections[\n",
    "    (connections.destination_flights.isnull())|(connections.destination_flights==0)\n",
    "]['source_airport'].map(minimal_flights)"
   ]
  },
  {
   "cell_type": "markdown",
   "metadata": {},
   "source": [
    "## Sanity check\n",
    "\n",
    "The distributions of the number of flights before and after filling the missing data should be approximately the same (properties preservation)"
   ]
  },
  {
   "cell_type": "code",
   "execution_count": 32,
   "metadata": {},
   "outputs": [
    {
     "data": {
      "image/png": "[encoded data removed]",
      "text/plain": [
       "<Figure size 432x288 with 1 Axes>"
      ]
     },
     "metadata": {
      "needs_background": "light"
     },
     "output_type": "display_data"
    }
   ],
   "source": [
    "(routes.destination_flights[routes.destination_flights!=0]+1).apply(np.log).hist(bins=30)\n",
    "plt.title(\"Number of flights distribution BEFORE\")\n",
    "sns.despine()\n",
    "plt.show()"
   ]
  },
  {
   "cell_type": "code",
   "execution_count": 33,
   "metadata": {},
   "outputs": [
    {
     "data": {
      "image/png": "[encoded data removed]",
      "text/plain": [
       "<Figure size 432x288 with 1 Axes>"
      ]
     },
     "metadata": {
      "needs_background": "light"
     },
     "output_type": "display_data"
    }
   ],
   "source": [
    "(connections.destination_flights).apply(np.log).hist(bins=50)\n",
    "plt.title(\"Number of flights distribution After\")\n",
    "sns.despine()\n",
    "plt.show()"
   ]
  },
  {
   "cell_type": "markdown",
   "metadata": {},
   "source": [
    "--- "
   ]
  },
  {
   "cell_type": "markdown",
   "metadata": {},
   "source": [
    "## Adding airports locations to the dataframe"
   ]
  },
  {
   "cell_type": "code",
   "execution_count": 34,
   "metadata": {},
   "outputs": [],
   "source": [
    "connections = pd.merge(\n",
    "    connections, airport_df[['IATA', 'Lat', 'Long']], left_on='source_airport', right_on='IATA')\n",
    "\n",
    "connections = pd.merge(\n",
    "    connections, airport_df[['IATA', 'Lat', 'Long']], left_on='dest_airport', right_on='IATA')\n",
    "\n",
    "connections.drop(['IATA_x', 'IATA_y'], axis=1, inplace=True)\n",
    "\n",
    "connections.rename(columns={\n",
    "    'Lat_x':'lat_source', \n",
    "    'Long_x':'long_source',\n",
    "    'Lat_y':'lat_dest',\n",
    "    'Long_y':'long_dest'\n",
    "}, inplace=True)\n",
    "\n",
    "# A few flights estimations were still missing - filling with median\n",
    "connections.fillna(connections.destination_flights.median(), inplace=True)"
   ]
  },
  {
   "cell_type": "code",
   "execution_count": 35,
   "metadata": {},
   "outputs": [
    {
     "data": {
      "text/html": [
       "<div>\n",
       "<style scoped>\n",
       "    .dataframe tbody tr th:only-of-type {\n",
       "        vertical-align: middle;\n",
       "    }\n",
       "\n",
       "    .dataframe tbody tr th {\n",
       "        vertical-align: top;\n",
       "    }\n",
       "\n",
       "    .dataframe thead th {\n",
       "        text-align: right;\n",
       "    }\n",
       "</style>\n",
       "<table border=\"1\" class=\"dataframe\">\n",
       "  <thead>\n",
       "    <tr style=\"text-align: right;\">\n",
       "      <th></th>\n",
       "      <th>airline</th>\n",
       "      <th>airline_id</th>\n",
       "      <th>source_airport</th>\n",
       "      <th>source_airport_id</th>\n",
       "      <th>dest_airport</th>\n",
       "      <th>dest_airport_id</th>\n",
       "      <th>destination_flights</th>\n",
       "      <th>lat_source</th>\n",
       "      <th>long_source</th>\n",
       "      <th>lat_dest</th>\n",
       "      <th>long_dest</th>\n",
       "    </tr>\n",
       "  </thead>\n",
       "  <tbody>\n",
       "    <tr>\n",
       "      <th>0</th>\n",
       "      <td>2B</td>\n",
       "      <td>410</td>\n",
       "      <td>AER</td>\n",
       "      <td>2965</td>\n",
       "      <td>KZN</td>\n",
       "      <td>2990</td>\n",
       "      <td>16.0</td>\n",
       "      <td>43.449902</td>\n",
       "      <td>39.956600</td>\n",
       "      <td>55.606201</td>\n",
       "      <td>49.278702</td>\n",
       "    </tr>\n",
       "    <tr>\n",
       "      <th>1</th>\n",
       "      <td>2B</td>\n",
       "      <td>410</td>\n",
       "      <td>ASF</td>\n",
       "      <td>2966</td>\n",
       "      <td>KZN</td>\n",
       "      <td>2990</td>\n",
       "      <td>12.0</td>\n",
       "      <td>46.283298</td>\n",
       "      <td>48.006302</td>\n",
       "      <td>55.606201</td>\n",
       "      <td>49.278702</td>\n",
       "    </tr>\n",
       "    <tr>\n",
       "      <th>2</th>\n",
       "      <td>2B</td>\n",
       "      <td>410</td>\n",
       "      <td>CEK</td>\n",
       "      <td>2968</td>\n",
       "      <td>KZN</td>\n",
       "      <td>2990</td>\n",
       "      <td>1.0</td>\n",
       "      <td>55.305801</td>\n",
       "      <td>61.503300</td>\n",
       "      <td>55.606201</td>\n",
       "      <td>49.278702</td>\n",
       "    </tr>\n",
       "    <tr>\n",
       "      <th>3</th>\n",
       "      <td>2B</td>\n",
       "      <td>410</td>\n",
       "      <td>DME</td>\n",
       "      <td>4029</td>\n",
       "      <td>KZN</td>\n",
       "      <td>2990</td>\n",
       "      <td>141.0</td>\n",
       "      <td>55.408798</td>\n",
       "      <td>37.906300</td>\n",
       "      <td>55.606201</td>\n",
       "      <td>49.278702</td>\n",
       "    </tr>\n",
       "    <tr>\n",
       "      <th>4</th>\n",
       "      <td>S7</td>\n",
       "      <td>4329</td>\n",
       "      <td>DME</td>\n",
       "      <td>4029</td>\n",
       "      <td>KZN</td>\n",
       "      <td>2990</td>\n",
       "      <td>141.0</td>\n",
       "      <td>55.408798</td>\n",
       "      <td>37.906300</td>\n",
       "      <td>55.606201</td>\n",
       "      <td>49.278702</td>\n",
       "    </tr>\n",
       "  </tbody>\n",
       "</table>\n",
       "</div>"
      ],
      "text/plain": [
       "  airline airline_id source_airport source_airport_id dest_airport  \\\n",
       "0      2B        410            AER              2965          KZN   \n",
       "1      2B        410            ASF              2966          KZN   \n",
       "2      2B        410            CEK              2968          KZN   \n",
       "3      2B        410            DME              4029          KZN   \n",
       "4      S7       4329            DME              4029          KZN   \n",
       "\n",
       "  dest_airport_id  destination_flights  lat_source  long_source   lat_dest  \\\n",
       "0            2990                 16.0   43.449902    39.956600  55.606201   \n",
       "1            2990                 12.0   46.283298    48.006302  55.606201   \n",
       "2            2990                  1.0   55.305801    61.503300  55.606201   \n",
       "3            2990                141.0   55.408798    37.906300  55.606201   \n",
       "4            2990                141.0   55.408798    37.906300  55.606201   \n",
       "\n",
       "   long_dest  \n",
       "0  49.278702  \n",
       "1  49.278702  \n",
       "2  49.278702  \n",
       "3  49.278702  \n",
       "4  49.278702  "
      ]
     },
     "execution_count": 35,
     "metadata": {},
     "output_type": "execute_result"
    }
   ],
   "source": [
    "connections.head()"
   ]
  },
  {
   "cell_type": "markdown",
   "metadata": {},
   "source": [
    "# Part 2. Population data"
   ]
  },
  {
   "cell_type": "code",
   "execution_count": 36,
   "metadata": {},
   "outputs": [
    {
     "name": "stdout",
     "output_type": "stream",
     "text": [
      "(232, 6)\n"
     ]
    },
    {
     "data": {
      "text/html": [
       "<div>\n",
       "<style scoped>\n",
       "    .dataframe tbody tr th:only-of-type {\n",
       "        vertical-align: middle;\n",
       "    }\n",
       "\n",
       "    .dataframe tbody tr th {\n",
       "        vertical-align: top;\n",
       "    }\n",
       "\n",
       "    .dataframe thead th {\n",
       "        text-align: right;\n",
       "    }\n",
       "</style>\n",
       "<table border=\"1\" class=\"dataframe\">\n",
       "  <thead>\n",
       "    <tr style=\"text-align: right;\">\n",
       "      <th></th>\n",
       "      <th>name</th>\n",
       "      <th>pop2019</th>\n",
       "      <th>pop2018</th>\n",
       "      <th>GrowthRate</th>\n",
       "      <th>area</th>\n",
       "      <th>Density</th>\n",
       "    </tr>\n",
       "    <tr>\n",
       "      <th>Rank</th>\n",
       "      <th></th>\n",
       "      <th></th>\n",
       "      <th></th>\n",
       "      <th></th>\n",
       "      <th></th>\n",
       "      <th></th>\n",
       "    </tr>\n",
       "  </thead>\n",
       "  <tbody>\n",
       "    <tr>\n",
       "      <th>1</th>\n",
       "      <td>China</td>\n",
       "      <td>1.433784e+09</td>\n",
       "      <td>NaN</td>\n",
       "      <td>1.0039</td>\n",
       "      <td>9706961.0</td>\n",
       "      <td>147.7068</td>\n",
       "    </tr>\n",
       "    <tr>\n",
       "      <th>2</th>\n",
       "      <td>India</td>\n",
       "      <td>1.366418e+09</td>\n",
       "      <td>NaN</td>\n",
       "      <td>1.0099</td>\n",
       "      <td>3287590.0</td>\n",
       "      <td>415.6290</td>\n",
       "    </tr>\n",
       "    <tr>\n",
       "      <th>3</th>\n",
       "      <td>United States</td>\n",
       "      <td>3.290649e+08</td>\n",
       "      <td>NaN</td>\n",
       "      <td>1.0059</td>\n",
       "      <td>9372610.0</td>\n",
       "      <td>35.1092</td>\n",
       "    </tr>\n",
       "    <tr>\n",
       "      <th>4</th>\n",
       "      <td>Indonesia</td>\n",
       "      <td>2.706256e+08</td>\n",
       "      <td>NaN</td>\n",
       "      <td>1.0107</td>\n",
       "      <td>1904569.0</td>\n",
       "      <td>142.0928</td>\n",
       "    </tr>\n",
       "    <tr>\n",
       "      <th>5</th>\n",
       "      <td>Pakistan</td>\n",
       "      <td>2.165653e+08</td>\n",
       "      <td>NaN</td>\n",
       "      <td>1.0200</td>\n",
       "      <td>881912.0</td>\n",
       "      <td>245.5634</td>\n",
       "    </tr>\n",
       "  </tbody>\n",
       "</table>\n",
       "</div>"
      ],
      "text/plain": [
       "               name       pop2019  pop2018  GrowthRate       area   Density\n",
       "Rank                                                                       \n",
       "1             China  1.433784e+09      NaN      1.0039  9706961.0  147.7068\n",
       "2             India  1.366418e+09      NaN      1.0099  3287590.0  415.6290\n",
       "3     United States  3.290649e+08      NaN      1.0059  9372610.0   35.1092\n",
       "4         Indonesia  2.706256e+08      NaN      1.0107  1904569.0  142.0928\n",
       "5          Pakistan  2.165653e+08      NaN      1.0200   881912.0  245.5634"
      ]
     },
     "execution_count": 36,
     "metadata": {},
     "output_type": "execute_result"
    }
   ],
   "source": [
    "population_country = pd.read_csv(\"country_population.csv\", index_col=0)\n",
    "population_country.pop2019 = population_country.pop2019 * 1000\n",
    "print(population_country.shape)\n",
    "population_country.head()"
   ]
  },
  {
   "cell_type": "code",
   "execution_count": 37,
   "metadata": {},
   "outputs": [
    {
     "name": "stdout",
     "output_type": "stream",
     "text": [
      "(1723, 5)\n"
     ]
    },
    {
     "data": {
      "text/html": [
       "<div>\n",
       "<style scoped>\n",
       "    .dataframe tbody tr th:only-of-type {\n",
       "        vertical-align: middle;\n",
       "    }\n",
       "\n",
       "    .dataframe tbody tr th {\n",
       "        vertical-align: top;\n",
       "    }\n",
       "\n",
       "    .dataframe thead th {\n",
       "        text-align: right;\n",
       "    }\n",
       "</style>\n",
       "<table border=\"1\" class=\"dataframe\">\n",
       "  <thead>\n",
       "    <tr style=\"text-align: right;\">\n",
       "      <th></th>\n",
       "      <th>Rank</th>\n",
       "      <th>Name</th>\n",
       "      <th>2020 Population</th>\n",
       "      <th>2019 Population</th>\n",
       "      <th>Change</th>\n",
       "    </tr>\n",
       "  </thead>\n",
       "  <tbody>\n",
       "    <tr>\n",
       "      <th>0</th>\n",
       "      <td>1</td>\n",
       "      <td>Tokyo</td>\n",
       "      <td>37393129</td>\n",
       "      <td>37435191</td>\n",
       "      <td>-0.11%</td>\n",
       "    </tr>\n",
       "    <tr>\n",
       "      <th>1</th>\n",
       "      <td>2</td>\n",
       "      <td>Delhi</td>\n",
       "      <td>30290936</td>\n",
       "      <td>29399141</td>\n",
       "      <td>3.03%</td>\n",
       "    </tr>\n",
       "    <tr>\n",
       "      <th>2</th>\n",
       "      <td>3</td>\n",
       "      <td>Shanghai</td>\n",
       "      <td>27058479</td>\n",
       "      <td>26317104</td>\n",
       "      <td>2.82%</td>\n",
       "    </tr>\n",
       "    <tr>\n",
       "      <th>3</th>\n",
       "      <td>4</td>\n",
       "      <td>Sao Paulo</td>\n",
       "      <td>22043028</td>\n",
       "      <td>21846507</td>\n",
       "      <td>0.90%</td>\n",
       "    </tr>\n",
       "    <tr>\n",
       "      <th>4</th>\n",
       "      <td>5</td>\n",
       "      <td>Mexico City</td>\n",
       "      <td>21782378</td>\n",
       "      <td>21671908</td>\n",
       "      <td>0.51%</td>\n",
       "    </tr>\n",
       "  </tbody>\n",
       "</table>\n",
       "</div>"
      ],
      "text/plain": [
       "   Rank         Name  2020 Population  2019 Population  Change\n",
       "0     1        Tokyo         37393129         37435191  -0.11%\n",
       "1     2        Delhi         30290936         29399141   3.03%\n",
       "2     3     Shanghai         27058479         26317104   2.82%\n",
       "3     4    Sao Paulo         22043028         21846507   0.90%\n",
       "4     5  Mexico City         21782378         21671908   0.51%"
      ]
     },
     "execution_count": 37,
     "metadata": {},
     "output_type": "execute_result"
    }
   ],
   "source": [
    "population_city = pd.read_csv(\"city_population.csv\", index_col=0)\n",
    "print(population_city.shape)\n",
    "population_city.head()"
   ]
  },
  {
   "cell_type": "markdown",
   "metadata": {},
   "source": [
    "## Adding city and country population to airports dataframe"
   ]
  },
  {
   "cell_type": "code",
   "execution_count": 38,
   "metadata": {},
   "outputs": [],
   "source": [
    "airport_df = pd.merge(\n",
    "    airport_df, \n",
    "    population_city.rename(\n",
    "        columns={\"Name\":\"City\", \"2020 Population\":\"city_population\"}\n",
    "    )[['City', 'city_population']], \n",
    "    how='left', \n",
    "    left_on='City', \n",
    "    right_on='City'\n",
    ")\n",
    "\n",
    "airport_df = pd.merge(\n",
    "    airport_df, \n",
    "    population_country.rename(\n",
    "        columns={\"name\":\"Country\", \"pop2019\":\"country_population\", 'Density':'country_density'}\n",
    "    )[['Country', 'country_population', 'country_density']], \n",
    "    how='left', \n",
    "    left_on='Country', \n",
    "    right_on='Country'\n",
    ")"
   ]
  },
  {
   "cell_type": "code",
   "execution_count": 39,
   "metadata": {},
   "outputs": [
    {
     "data": {
      "text/html": [
       "<div>\n",
       "<style scoped>\n",
       "    .dataframe tbody tr th:only-of-type {\n",
       "        vertical-align: middle;\n",
       "    }\n",
       "\n",
       "    .dataframe tbody tr th {\n",
       "        vertical-align: top;\n",
       "    }\n",
       "\n",
       "    .dataframe thead th {\n",
       "        text-align: right;\n",
       "    }\n",
       "</style>\n",
       "<table border=\"1\" class=\"dataframe\">\n",
       "  <thead>\n",
       "    <tr style=\"text-align: right;\">\n",
       "      <th></th>\n",
       "      <th>Name</th>\n",
       "      <th>City</th>\n",
       "      <th>Country</th>\n",
       "      <th>IATA</th>\n",
       "      <th>Lat</th>\n",
       "      <th>Long</th>\n",
       "      <th>city_population</th>\n",
       "      <th>country_population</th>\n",
       "      <th>country_density</th>\n",
       "    </tr>\n",
       "  </thead>\n",
       "  <tbody>\n",
       "    <tr>\n",
       "      <th>0</th>\n",
       "      <td>Goroka Airport</td>\n",
       "      <td>Goroka</td>\n",
       "      <td>Papua New Guinea</td>\n",
       "      <td>GKA</td>\n",
       "      <td>-6.081690</td>\n",
       "      <td>145.391998</td>\n",
       "      <td>NaN</td>\n",
       "      <td>8776109.0</td>\n",
       "      <td>18.9614</td>\n",
       "    </tr>\n",
       "    <tr>\n",
       "      <th>1</th>\n",
       "      <td>Madang Airport</td>\n",
       "      <td>Madang</td>\n",
       "      <td>Papua New Guinea</td>\n",
       "      <td>MAG</td>\n",
       "      <td>-5.207080</td>\n",
       "      <td>145.789001</td>\n",
       "      <td>NaN</td>\n",
       "      <td>8776109.0</td>\n",
       "      <td>18.9614</td>\n",
       "    </tr>\n",
       "    <tr>\n",
       "      <th>2</th>\n",
       "      <td>Mount Hagen Kagamuga Airport</td>\n",
       "      <td>Mount Hagen</td>\n",
       "      <td>Papua New Guinea</td>\n",
       "      <td>HGU</td>\n",
       "      <td>-5.826790</td>\n",
       "      <td>144.296005</td>\n",
       "      <td>NaN</td>\n",
       "      <td>8776109.0</td>\n",
       "      <td>18.9614</td>\n",
       "    </tr>\n",
       "    <tr>\n",
       "      <th>3</th>\n",
       "      <td>Nadzab Airport</td>\n",
       "      <td>Nadzab</td>\n",
       "      <td>Papua New Guinea</td>\n",
       "      <td>LAE</td>\n",
       "      <td>-6.569803</td>\n",
       "      <td>146.725977</td>\n",
       "      <td>NaN</td>\n",
       "      <td>8776109.0</td>\n",
       "      <td>18.9614</td>\n",
       "    </tr>\n",
       "    <tr>\n",
       "      <th>4</th>\n",
       "      <td>Port Moresby Jacksons International Airport</td>\n",
       "      <td>Port Moresby</td>\n",
       "      <td>Papua New Guinea</td>\n",
       "      <td>POM</td>\n",
       "      <td>-9.443380</td>\n",
       "      <td>147.220001</td>\n",
       "      <td>382516.0</td>\n",
       "      <td>8776109.0</td>\n",
       "      <td>18.9614</td>\n",
       "    </tr>\n",
       "  </tbody>\n",
       "</table>\n",
       "</div>"
      ],
      "text/plain": [
       "                                          Name          City  \\\n",
       "0                               Goroka Airport        Goroka   \n",
       "1                               Madang Airport        Madang   \n",
       "2                 Mount Hagen Kagamuga Airport   Mount Hagen   \n",
       "3                               Nadzab Airport        Nadzab   \n",
       "4  Port Moresby Jacksons International Airport  Port Moresby   \n",
       "\n",
       "            Country IATA       Lat        Long  city_population  \\\n",
       "0  Papua New Guinea  GKA -6.081690  145.391998              NaN   \n",
       "1  Papua New Guinea  MAG -5.207080  145.789001              NaN   \n",
       "2  Papua New Guinea  HGU -5.826790  144.296005              NaN   \n",
       "3  Papua New Guinea  LAE -6.569803  146.725977              NaN   \n",
       "4  Papua New Guinea  POM -9.443380  147.220001         382516.0   \n",
       "\n",
       "   country_population  country_density  \n",
       "0           8776109.0          18.9614  \n",
       "1           8776109.0          18.9614  \n",
       "2           8776109.0          18.9614  \n",
       "3           8776109.0          18.9614  \n",
       "4           8776109.0          18.9614  "
      ]
     },
     "execution_count": 39,
     "metadata": {},
     "output_type": "execute_result"
    }
   ],
   "source": [
    "airport_df.head()"
   ]
  },
  {
   "cell_type": "code",
   "execution_count": 41,
   "metadata": {},
   "outputs": [
    {
     "data": {
      "text/plain": [
       "Name                  0.000000\n",
       "City                  0.006416\n",
       "Country               0.000000\n",
       "IATA                  0.000000\n",
       "Lat                   0.000000\n",
       "Long                  0.000000\n",
       "city_population       0.810495\n",
       "country_population    0.018260\n",
       "country_density       0.018260\n",
       "dtype: float64"
      ]
     },
     "execution_count": 41,
     "metadata": {},
     "output_type": "execute_result"
    }
   ],
   "source": [
    "airport_df.isnull().sum()/airport_df.shape[0]"
   ]
  },
  {
   "cell_type": "markdown",
   "metadata": {},
   "source": [
    "## Problem - 81% of city population is missing!\n",
    "\n",
    "One solution could be parsing wikipedia but we can also try and estimate the population size based on the flights info!"
   ]
  },
  {
   "cell_type": "markdown",
   "metadata": {},
   "source": [
    "## Hypothesis - the number of flights from the city is proportional to the city population"
   ]
  },
  {
   "cell_type": "code",
   "execution_count": 42,
   "metadata": {},
   "outputs": [],
   "source": [
    "# Removing 1.8% of observations with missing country info\n",
    "airport_df = airport_df[~airport_df.country_population.isnull()]"
   ]
  },
  {
   "cell_type": "code",
   "execution_count": 43,
   "metadata": {},
   "outputs": [
    {
     "data": {
      "text/html": [
       "<div>\n",
       "<style scoped>\n",
       "    .dataframe tbody tr th:only-of-type {\n",
       "        vertical-align: middle;\n",
       "    }\n",
       "\n",
       "    .dataframe tbody tr th {\n",
       "        vertical-align: top;\n",
       "    }\n",
       "\n",
       "    .dataframe thead th {\n",
       "        text-align: right;\n",
       "    }\n",
       "</style>\n",
       "<table border=\"1\" class=\"dataframe\">\n",
       "  <thead>\n",
       "    <tr style=\"text-align: right;\">\n",
       "      <th></th>\n",
       "      <th>source_airport</th>\n",
       "      <th>destination_flights</th>\n",
       "    </tr>\n",
       "  </thead>\n",
       "  <tbody>\n",
       "    <tr>\n",
       "      <th>0</th>\n",
       "      <td>AAE</td>\n",
       "      <td>198.0</td>\n",
       "    </tr>\n",
       "    <tr>\n",
       "      <th>1</th>\n",
       "      <td>AAL</td>\n",
       "      <td>1092.0</td>\n",
       "    </tr>\n",
       "    <tr>\n",
       "      <th>2</th>\n",
       "      <td>AAN</td>\n",
       "      <td>16.0</td>\n",
       "    </tr>\n",
       "    <tr>\n",
       "      <th>3</th>\n",
       "      <td>AAQ</td>\n",
       "      <td>187.0</td>\n",
       "    </tr>\n",
       "    <tr>\n",
       "      <th>4</th>\n",
       "      <td>AAR</td>\n",
       "      <td>224.0</td>\n",
       "    </tr>\n",
       "  </tbody>\n",
       "</table>\n",
       "</div>"
      ],
      "text/plain": [
       "  source_airport  destination_flights\n",
       "0            AAE                198.0\n",
       "1            AAL               1092.0\n",
       "2            AAN                 16.0\n",
       "3            AAQ                187.0\n",
       "4            AAR                224.0"
      ]
     },
     "execution_count": 43,
     "metadata": {},
     "output_type": "execute_result"
    }
   ],
   "source": [
    "flights_number = connections.groupby(\n",
    "    ['source_airport'], as_index=False\n",
    ")[['destination_flights']].sum()\n",
    "flights_number.head()"
   ]
  },
  {
   "cell_type": "code",
   "execution_count": 44,
   "metadata": {},
   "outputs": [],
   "source": [
    "# adding source airport number of flights to the airport dataframe\n",
    "airport_df = pd.merge(\n",
    "    airport_df, flights_number, \n",
    "    how='left', \n",
    "    left_on='IATA', \n",
    "    right_on='source_airport'\n",
    ")"
   ]
  },
  {
   "cell_type": "code",
   "execution_count": 60,
   "metadata": {},
   "outputs": [],
   "source": [
    "airport_df = airport_df[~airport_df.source_airport.isnull()]\n",
    "airport_df = airport_df[~airport_df.destination_flights.isnull()]"
   ]
  },
  {
   "cell_type": "code",
   "execution_count": 48,
   "metadata": {},
   "outputs": [],
   "source": [
    "# calculating the number of flights on a country level to fill missing flight values\n",
    "country_level_flights = np.ceil(\n",
    "    airport_df[\n",
    "        airport_df.destination_flights!=0\n",
    "    ].groupby(\"Country\")['destination_flights'].min() * MINIMAL_FLIGHTS_ESTIMATE\n",
    ")\n",
    "\n",
    "airport_df.destination_flights[\n",
    "    airport_df.destination_flights==0\n",
    "] = airport_df[\n",
    "    airport_df.destination_flights==0\n",
    "]['Country'].map(country_level_flights)"
   ]
  },
  {
   "cell_type": "markdown",
   "metadata": {},
   "source": [
    "## Let's see if our hypothesis holds"
   ]
  },
  {
   "cell_type": "code",
   "execution_count": 50,
   "metadata": {},
   "outputs": [
    {
     "data": {
      "text/html": [
       "<div>\n",
       "<style scoped>\n",
       "    .dataframe tbody tr th:only-of-type {\n",
       "        vertical-align: middle;\n",
       "    }\n",
       "\n",
       "    .dataframe tbody tr th {\n",
       "        vertical-align: top;\n",
       "    }\n",
       "\n",
       "    .dataframe thead th {\n",
       "        text-align: right;\n",
       "    }\n",
       "</style>\n",
       "<table border=\"1\" class=\"dataframe\">\n",
       "  <thead>\n",
       "    <tr style=\"text-align: right;\">\n",
       "      <th></th>\n",
       "      <th>destination_flights</th>\n",
       "      <th>city_population</th>\n",
       "      <th>country_population</th>\n",
       "      <th>country_density</th>\n",
       "    </tr>\n",
       "  </thead>\n",
       "  <tbody>\n",
       "    <tr>\n",
       "      <th>destination_flights</th>\n",
       "      <td>1.000000</td>\n",
       "      <td>0.511136</td>\n",
       "      <td>0.161578</td>\n",
       "      <td>0.114862</td>\n",
       "    </tr>\n",
       "    <tr>\n",
       "      <th>city_population</th>\n",
       "      <td>0.511136</td>\n",
       "      <td>1.000000</td>\n",
       "      <td>0.131050</td>\n",
       "      <td>0.110071</td>\n",
       "    </tr>\n",
       "    <tr>\n",
       "      <th>country_population</th>\n",
       "      <td>0.161578</td>\n",
       "      <td>0.131050</td>\n",
       "      <td>1.000000</td>\n",
       "      <td>0.047729</td>\n",
       "    </tr>\n",
       "    <tr>\n",
       "      <th>country_density</th>\n",
       "      <td>0.114862</td>\n",
       "      <td>0.110071</td>\n",
       "      <td>0.047729</td>\n",
       "      <td>1.000000</td>\n",
       "    </tr>\n",
       "  </tbody>\n",
       "</table>\n",
       "</div>"
      ],
      "text/plain": [
       "                     destination_flights  city_population  country_population  \\\n",
       "destination_flights             1.000000         0.511136            0.161578   \n",
       "city_population                 0.511136         1.000000            0.131050   \n",
       "country_population              0.161578         0.131050            1.000000   \n",
       "country_density                 0.114862         0.110071            0.047729   \n",
       "\n",
       "                     country_density  \n",
       "destination_flights         0.114862  \n",
       "city_population             0.110071  \n",
       "country_population          0.047729  \n",
       "country_density             1.000000  "
      ]
     },
     "execution_count": 50,
     "metadata": {},
     "output_type": "execute_result"
    }
   ],
   "source": [
    "airport_df[['destination_flights', 'city_population', 'country_population', 'country_density']].corr()"
   ]
  },
  {
   "cell_type": "code",
   "execution_count": 57,
   "metadata": {},
   "outputs": [
    {
     "data": {
      "image/png": "[encoded data removed]",
      "text/plain": [
       "<Figure size 432x288 with 1 Axes>"
      ]
     },
     "metadata": {
      "needs_background": "light"
     },
     "output_type": "display_data"
    }
   ],
   "source": [
    "plt.scatter(\n",
    "    np.log(airport_df.destination_flights), \n",
    "    np.log(airport_df.city_population)\n",
    ")\n",
    "plt.ylabel(\"City population (log-scale)\")\n",
    "plt.xlabel(\"Number of flights (log-scale)\")\n",
    "sns.despine()\n",
    "plt.show()"
   ]
  },
  {
   "cell_type": "markdown",
   "metadata": {},
   "source": [
    "## Now we can calculate the \"average population per flight\"..."
   ]
  },
  {
   "cell_type": "code",
   "execution_count": 58,
   "metadata": {},
   "outputs": [],
   "source": [
    "flights_coefs = airport_df[\n",
    "    ~airport_df.city_population.isnull()\n",
    "].groupby(\"Country\")[['city_population', 'destination_flights']].sum()\n",
    "flights_coefs['coef'] = flights_coefs['city_population']/flights_coefs['destination_flights']"
   ]
  },
  {
   "cell_type": "code",
   "execution_count": 59,
   "metadata": {},
   "outputs": [
    {
     "data": {
      "text/html": [
       "<div>\n",
       "<style scoped>\n",
       "    .dataframe tbody tr th:only-of-type {\n",
       "        vertical-align: middle;\n",
       "    }\n",
       "\n",
       "    .dataframe tbody tr th {\n",
       "        vertical-align: top;\n",
       "    }\n",
       "\n",
       "    .dataframe thead th {\n",
       "        text-align: right;\n",
       "    }\n",
       "</style>\n",
       "<table border=\"1\" class=\"dataframe\">\n",
       "  <thead>\n",
       "    <tr style=\"text-align: right;\">\n",
       "      <th></th>\n",
       "      <th>city_population</th>\n",
       "      <th>destination_flights</th>\n",
       "      <th>coef</th>\n",
       "    </tr>\n",
       "    <tr>\n",
       "      <th>Country</th>\n",
       "      <th></th>\n",
       "      <th></th>\n",
       "      <th></th>\n",
       "    </tr>\n",
       "  </thead>\n",
       "  <tbody>\n",
       "    <tr>\n",
       "      <th>Afghanistan</th>\n",
       "      <td>1103577.0</td>\n",
       "      <td>470.0</td>\n",
       "      <td>2348.036170</td>\n",
       "    </tr>\n",
       "    <tr>\n",
       "      <th>Albania</th>\n",
       "      <td>493712.0</td>\n",
       "      <td>668.0</td>\n",
       "      <td>739.089820</td>\n",
       "    </tr>\n",
       "    <tr>\n",
       "      <th>Algeria</th>\n",
       "      <td>1900157.0</td>\n",
       "      <td>1197.0</td>\n",
       "      <td>1587.432749</td>\n",
       "    </tr>\n",
       "    <tr>\n",
       "      <th>Angola</th>\n",
       "      <td>11272306.0</td>\n",
       "      <td>1159.0</td>\n",
       "      <td>9725.889560</td>\n",
       "    </tr>\n",
       "    <tr>\n",
       "      <th>Argentina</th>\n",
       "      <td>39722069.0</td>\n",
       "      <td>19222.0</td>\n",
       "      <td>2066.489907</td>\n",
       "    </tr>\n",
       "    <tr>\n",
       "      <th>...</th>\n",
       "      <td>...</td>\n",
       "      <td>...</td>\n",
       "      <td>...</td>\n",
       "    </tr>\n",
       "    <tr>\n",
       "      <th>Venezuela</th>\n",
       "      <td>16611883.0</td>\n",
       "      <td>1235.0</td>\n",
       "      <td>13450.917409</td>\n",
       "    </tr>\n",
       "    <tr>\n",
       "      <th>Vietnam</th>\n",
       "      <td>3647383.0</td>\n",
       "      <td>28339.0</td>\n",
       "      <td>128.705424</td>\n",
       "    </tr>\n",
       "    <tr>\n",
       "      <th>Yemen</th>\n",
       "      <td>4798597.0</td>\n",
       "      <td>1474.0</td>\n",
       "      <td>3255.493216</td>\n",
       "    </tr>\n",
       "    <tr>\n",
       "      <th>Zambia</th>\n",
       "      <td>3316628.0</td>\n",
       "      <td>1962.0</td>\n",
       "      <td>1690.432212</td>\n",
       "    </tr>\n",
       "    <tr>\n",
       "      <th>Zimbabwe</th>\n",
       "      <td>2168108.0</td>\n",
       "      <td>2825.0</td>\n",
       "      <td>767.471858</td>\n",
       "    </tr>\n",
       "  </tbody>\n",
       "</table>\n",
       "<p>132 rows × 3 columns</p>\n",
       "</div>"
      ],
      "text/plain": [
       "             city_population  destination_flights          coef\n",
       "Country                                                        \n",
       "Afghanistan        1103577.0                470.0   2348.036170\n",
       "Albania             493712.0                668.0    739.089820\n",
       "Algeria            1900157.0               1197.0   1587.432749\n",
       "Angola            11272306.0               1159.0   9725.889560\n",
       "Argentina         39722069.0              19222.0   2066.489907\n",
       "...                      ...                  ...           ...\n",
       "Venezuela         16611883.0               1235.0  13450.917409\n",
       "Vietnam            3647383.0              28339.0    128.705424\n",
       "Yemen              4798597.0               1474.0   3255.493216\n",
       "Zambia             3316628.0               1962.0   1690.432212\n",
       "Zimbabwe           2168108.0               2825.0    767.471858\n",
       "\n",
       "[132 rows x 3 columns]"
      ]
     },
     "execution_count": 59,
     "metadata": {},
     "output_type": "execute_result"
    }
   ],
   "source": [
    "flights_coefs"
   ]
  },
  {
   "cell_type": "code",
   "execution_count": 61,
   "metadata": {},
   "outputs": [],
   "source": [
    "airport_df['flights_coefficient'] = airport_df.Country.map(flights_coefs.coef)\n",
    "airport_df['flights_coefficient'].fillna(airport_df['flights_coefficient'].median(), inplace=True)"
   ]
  },
  {
   "cell_type": "markdown",
   "metadata": {},
   "source": [
    "## ... and use this coefficient to fill the missing population data"
   ]
  },
  {
   "cell_type": "code",
   "execution_count": 62,
   "metadata": {},
   "outputs": [],
   "source": [
    "city_estimates = np.ceil(airport_df.flights_coefficient[airport_df.city_population.isnull()] *\\\n",
    "                 airport_df.destination_flights[airport_df.city_population.isnull()])\n",
    "\n",
    "airport_df.city_population[airport_df.city_population.isnull()] = city_estimates"
   ]
  },
  {
   "cell_type": "markdown",
   "metadata": {},
   "source": [
    "## Finally - clean connections data and get daily flights estimates from monthly data"
   ]
  },
  {
   "cell_type": "code",
   "execution_count": 63,
   "metadata": {},
   "outputs": [],
   "source": [
    "connections = connections[connections.source_airport.isin(airport_df.IATA)]\n",
    "connections = connections[connections.dest_airport.isin(airport_df.IATA)]\n",
    "\n",
    "connections.destination_flights = connections.destination_flights/30"
   ]
  },
  {
   "cell_type": "markdown",
   "metadata": {},
   "source": [
    "## Saving all the data"
   ]
  },
  {
   "cell_type": "code",
   "execution_count": 65,
   "metadata": {},
   "outputs": [],
   "source": [
    "airport_df.to_csv(\"airport_df_preprocessed.csv\")\n",
    "connections.to_csv(\"connections_preprocessed.csv\")"
   ]
  }
 ],
 "metadata": {
  "kernelspec": {
   "display_name": "Python 3 (ipykernel)",
   "language": "python",
   "name": "python3"
  },
  "language_info": {
   "codemirror_mode": {
    "name": "ipython",
    "version": 3
   },
   "file_extension": ".py",
   "mimetype": "text/x-python",
   "name": "python",
   "nbconvert_exporter": "python",
   "pygments_lexer": "ipython3",
   "version": "3.8.13"
  },
  "varInspector": {
   "cols": {
    "lenName": 16,
    "lenType": 16,
    "lenVar": 40
   },
   "kernels_config": {
    "python": {
     "delete_cmd_postfix": "",
     "delete_cmd_prefix": "del ",
     "library": "var_list.py",
     "varRefreshCmd": "print(var_dic_list())"
    },
    "r": {
     "delete_cmd_postfix": ") ",
     "delete_cmd_prefix": "rm(",
     "library": "var_list.r",
     "varRefreshCmd": "cat(var_dic_list()) "
    }
   },
   "types_to_exclude": [
    "module",
    "function",
    "builtin_function_or_method",
    "instance",
    "_Feature"
   ],
   "window_display": false
  }
 },
 "nbformat": 4,
 "nbformat_minor": 2
}
